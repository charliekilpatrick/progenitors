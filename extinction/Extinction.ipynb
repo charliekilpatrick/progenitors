{
 "cells": [
  {
   "cell_type": "code",
   "execution_count": 2,
   "metadata": {},
   "outputs": [
    {
     "name": "stdout",
     "output_type": "stream",
     "text": [
      "Loading metadata from: metadata/Type_II_P_II_L.pkl\n",
      "Loading metadata from: metadata/Type_IIn.pkl\n",
      "Loading metadata from: metadata/Type_IIb.pkl\n",
      "Loading metadata from: metadata/Type_Ib_c.pkl\n",
      "Loading metadata from: metadata/Type_Ia.pkl\n",
      "Loading metadata from: metadata/Other.pkl\n"
     ]
    }
   ],
   "source": [
    "import util\n",
    "import sheetproc\n",
    "import sys\n",
    "from astropy.table import unique\n",
    "\n",
    "sndata = sheetproc.download_progenitor_data(util.params['SHEET'])\n",
    "sndata = sheetproc.load_metadata_from_file(sndata, util.params['metadata'])"
   ]
  },
  {
   "cell_type": "code",
   "execution_count": 37,
   "metadata": {},
   "outputs": [
    {
     "name": "stdout",
     "output_type": "stream",
     "text": [
      "0.000133\n",
      "8789.905142616031 3728.606895282928\n"
     ]
    }
   ],
   "source": [
    "import numpy as np\n",
    "sp = sndata['Type II-P/II-L'].meta['2017eaw']['osc']['spectra'][0]['data']\n",
    "wave = np.array([float(w[0]) for w in sp])\n",
    "flux = np.array([float(w[1]) for w in sp])\n",
    "z = sndata['Type II-P/II-L'].meta['2017eaw']['osc']['redshift']\n",
    "print(z)\n",
    "wave = wave/(1.0+float(z))\n",
    "print(np.max(wave),np.min(wave))"
   ]
  },
  {
   "cell_type": "code",
   "execution_count": 41,
   "metadata": {},
   "outputs": [
    {
     "data": {
      "text/plain": [
       "(5792.0, 5992.0)"
      ]
     },
     "execution_count": 41,
     "metadata": {},
     "output_type": "execute_result"
    },
    {
     "data": {
      "image/png": "[encoded data removed]",
      "text/plain": [
       "<Figure size 432x288 with 1 Axes>"
      ]
     },
     "metadata": {
      "needs_background": "light"
     },
     "output_type": "display_data"
    }
   ],
   "source": [
    "import matplotlib.pyplot as plt\n",
    "import scipy.signal\n",
    "import scipy.interpolate\n",
    "import scipy.optimize\n",
    "\n",
    "naid=5892.0\n",
    "naid_half_window=10.0\n",
    "search_half_window=3.0\n",
    "wave_window = 40.0\n",
    "rng = (wave > 4000) & (wave < 6500)\n",
    "niterate = 10\n",
    "\n",
    "def line_profile(wave, a, b, c):\n",
    "    x = (wave-b)/c\n",
    "    profile = 1.0 - a * np.exp(-0.5*x**2)\n",
    "    return(profile)\n",
    "\n",
    "def fit_line_profile(wave, flux):\n",
    "    \n",
    "    if (wave[-1] < naid+naid_half_window or\n",
    "        wave[0]  > naid-naid_half_window):\n",
    "        return(None)\n",
    "\n",
    "    rng = (wave < naid+naid_half_window) & (wave > naid-naid_half_window)\n",
    "    srn = (wave < naid+search_half_window) & (wave > naid-search_half_window)\n",
    "    \n",
    "    amp = 1.0 - np.min(flux[rng])\n",
    "    wav = wave[srn][np.argmin(flux[srn])]\n",
    "    wid = 7.0\n",
    "    \n",
    "    p0=(amp,wav,wid)\n",
    "    \n",
    "    print(p0)\n",
    "    popt, pcov = scipy.optimize.curve_fit(line_profile, wave[rng], flux[rng], \n",
    "                                          p0=p0)\n",
    "    \n",
    "    return(popt)\n",
    "\n",
    "def calculate_dwave(wave):\n",
    "    dwaves = []\n",
    "    for i in np.arange(len(wave)):\n",
    "        if i==len(wave)-1: break\n",
    "        dwaves.append(wave[i+1]-wave[i])\n",
    "\n",
    "    dwave=np.mean(dwaves)\n",
    "    return(dwave)\n",
    "\n",
    "def get_window(wave, wave_window=wave_window):\n",
    "    dwave = calculate_dwave(wave)\n",
    "    window = int(np.round(wave_window/dwave))\n",
    "    if window % 2 == 0: window = window+1\n",
    "    return(window)\n",
    "\n",
    "def continuum_smooth(wave, nfhat, flux):\n",
    "    srms = np.sqrt(np.mean((flux/nfhat-1.0)**2))\n",
    "    idx = np.where(np.abs(flux/nfhat-1.0)<srms)\n",
    "    \n",
    "    f = scipy.interpolate.interp1d(wave[idx], flux[idx], bounds_error=False, fill_value='extrapolate')\n",
    "    return(scipy.signal.savgol_filter(f(wave), get_window(wave),  1))\n",
    "\n",
    "nfhat = scipy.signal.savgol_filter(flux, get_window(wave), 1, deriv=0)\n",
    "for i in np.arange(niterate):\n",
    "    nfhat = continuum_smooth(wave, nfhat, flux)\n",
    "\n",
    "plt.plot(wave, flux)\n",
    "plt.plot(wave, nfhat, color='red')\n",
    "plt.xlim([naid-100.0,naid+100.0])"
   ]
  },
  {
   "cell_type": "code",
   "execution_count": 40,
   "metadata": {},
   "outputs": [
    {
     "name": "stdout",
     "output_type": "stream",
     "text": [
      "(0.08600601731108914, 5893.412476140673, 7.0)\n",
      "[8.34666723e-02 5.89155183e+03 6.66646719e+00]\n"
     ]
    },
    {
     "data": {
      "text/plain": [
       "(5792.0, 5992.0)"
      ]
     },
     "execution_count": 40,
     "metadata": {},
     "output_type": "execute_result"
    },
    {
     "data": {
      "image/png": "[encoded data removed]",
      "text/plain": [
       "<Figure size 432x288 with 1 Axes>"
      ]
     },
     "metadata": {
      "needs_background": "light"
     },
     "output_type": "display_data"
    }
   ],
   "source": [
    "nflux = flux/nfhat\n",
    "plt.plot(wave, nflux)\n",
    "popt=fit_line_profile(wave, nflux)\n",
    "print(popt)\n",
    "plt.plot(wave, line_profile(wave, *popt))\n",
    "plt.xlim([naid-100.0,naid+100.0])"
   ]
  },
  {
   "cell_type": "code",
   "execution_count": null,
   "metadata": {},
   "outputs": [],
   "source": []
  }
 ],
 "metadata": {
  "kernelspec": {
   "display_name": "Python 3",
   "language": "python",
   "name": "python3"
  },
  "language_info": {
   "codemirror_mode": {
    "name": "ipython",
    "version": 3
   },
   "file_extension": ".py",
   "mimetype": "text/x-python",
   "name": "python",
   "nbconvert_exporter": "python",
   "pygments_lexer": "ipython3",
   "version": "3.7.9"
  }
 },
 "nbformat": 4,
 "nbformat_minor": 4
}
